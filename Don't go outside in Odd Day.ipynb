{
 "cells": [
  {
   "cell_type": "code",
   "execution_count": 11,
   "id": "1b0c7f99",
   "metadata": {},
   "outputs": [
    {
     "name": "stdout",
     "output_type": "stream",
     "text": [
      "Number of even numbers : 4\n",
      "Number of odd numbers : 5\n"
     ]
    }
   ],
   "source": [
    "# Write a Python program to count the number of even and odd numbers from a series of numbers.\n",
    "\n",
    "\n",
    "\n",
    "# Sample numbers : numbers = (1, 2, 3, 4, 5, 6, 7, 8, 9) \n",
    "\n",
    "# Expected Output :\n",
    "\n",
    "# Number of even numbers : 4\n",
    "\n",
    "# Number of odd numbers : 5\n",
    "    \n",
    "odd = 0\n",
    "even = 0\n",
    "for i in range(1,10):\n",
    "        if not i % 2:\n",
    "    \t     even+=1\n",
    "        else:\n",
    "    \t     odd+=1\n",
    "print(\"Number of even numbers :\",even)\n",
    "print(\"Number of odd numbers :\",odd)"
   ]
  },
  {
   "cell_type": "code",
   "execution_count": null,
   "id": "52abed93",
   "metadata": {},
   "outputs": [],
   "source": []
  }
 ],
 "metadata": {
  "kernelspec": {
   "display_name": "Python 3 (ipykernel)",
   "language": "python",
   "name": "python3"
  },
  "language_info": {
   "codemirror_mode": {
    "name": "ipython",
    "version": 3
   },
   "file_extension": ".py",
   "mimetype": "text/x-python",
   "name": "python",
   "nbconvert_exporter": "python",
   "pygments_lexer": "ipython3",
   "version": "3.10.2"
  }
 },
 "nbformat": 4,
 "nbformat_minor": 5
}
